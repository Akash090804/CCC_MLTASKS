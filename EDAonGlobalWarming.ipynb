{
 "cells": [
  {
   "cell_type": "code",
   "execution_count": 3,
   "id": "f8f37bc6-d7ad-409f-96e7-80b1cef615ae",
   "metadata": {},
   "outputs": [
    {
     "name": "stdout",
     "output_type": "stream",
     "text": [
      "Requirement already satisfied: pandas in c:\\users\\akash\\anaconda3\\lib\\site-packages (2.2.2)\n",
      "Requirement already satisfied: numpy>=1.26.0 in c:\\users\\akash\\anaconda3\\lib\\site-packages (from pandas) (1.26.4)\n",
      "Requirement already satisfied: python-dateutil>=2.8.2 in c:\\users\\akash\\anaconda3\\lib\\site-packages (from pandas) (2.9.0.post0)\n",
      "Requirement already satisfied: pytz>=2020.1 in c:\\users\\akash\\anaconda3\\lib\\site-packages (from pandas) (2024.1)\n",
      "Requirement already satisfied: tzdata>=2022.7 in c:\\users\\akash\\anaconda3\\lib\\site-packages (from pandas) (2023.3)\n",
      "Requirement already satisfied: six>=1.5 in c:\\users\\akash\\anaconda3\\lib\\site-packages (from python-dateutil>=2.8.2->pandas) (1.16.0)\n",
      "Requirement already satisfied: numpy in c:\\users\\akash\\anaconda3\\lib\\site-packages (1.26.4)\n",
      "Requirement already satisfied: matplotlib in c:\\users\\akash\\anaconda3\\lib\\site-packages (3.8.4)\n",
      "Requirement already satisfied: contourpy>=1.0.1 in c:\\users\\akash\\anaconda3\\lib\\site-packages (from matplotlib) (1.2.0)\n",
      "Requirement already satisfied: cycler>=0.10 in c:\\users\\akash\\anaconda3\\lib\\site-packages (from matplotlib) (0.11.0)\n",
      "Requirement already satisfied: fonttools>=4.22.0 in c:\\users\\akash\\anaconda3\\lib\\site-packages (from matplotlib) (4.51.0)\n",
      "Requirement already satisfied: kiwisolver>=1.3.1 in c:\\users\\akash\\anaconda3\\lib\\site-packages (from matplotlib) (1.4.4)\n",
      "Requirement already satisfied: numpy>=1.21 in c:\\users\\akash\\anaconda3\\lib\\site-packages (from matplotlib) (1.26.4)\n",
      "Requirement already satisfied: packaging>=20.0 in c:\\users\\akash\\anaconda3\\lib\\site-packages (from matplotlib) (23.2)\n",
      "Requirement already satisfied: pillow>=8 in c:\\users\\akash\\anaconda3\\lib\\site-packages (from matplotlib) (10.3.0)\n",
      "Requirement already satisfied: pyparsing>=2.3.1 in c:\\users\\akash\\anaconda3\\lib\\site-packages (from matplotlib) (3.0.9)\n",
      "Requirement already satisfied: python-dateutil>=2.7 in c:\\users\\akash\\anaconda3\\lib\\site-packages (from matplotlib) (2.9.0.post0)\n",
      "Requirement already satisfied: six>=1.5 in c:\\users\\akash\\anaconda3\\lib\\site-packages (from python-dateutil>=2.7->matplotlib) (1.16.0)\n"
     ]
    }
   ],
   "source": [
    "! pip install pandas \n",
    "! pip install numpy\n",
    "! pip install matplotlib\n"
   ]
  },
  {
   "cell_type": "code",
   "execution_count": 4,
   "id": "bcffbcc7-8103-4f06-9395-ef7b331c243a",
   "metadata": {},
   "outputs": [],
   "source": [
    "import pandas as pd\n",
    "import numpy as np\n",
    "import matplotlib.pyplot as plt"
   ]
  },
  {
   "cell_type": "code",
   "execution_count": 5,
   "id": "3da7edce-31df-436a-b288-4c257bee6424",
   "metadata": {},
   "outputs": [],
   "source": [
    "df1 = pd.read_csv('climate_change_data.csv')"
   ]
  },
  {
   "cell_type": "code",
   "execution_count": 59,
   "id": "e6e69906-a487-4525-88a0-dc0beced5f4a",
   "metadata": {},
   "outputs": [
    {
     "data": {
      "text/html": [
       "<div>\n",
       "<style scoped>\n",
       "    .dataframe tbody tr th:only-of-type {\n",
       "        vertical-align: middle;\n",
       "    }\n",
       "\n",
       "    .dataframe tbody tr th {\n",
       "        vertical-align: top;\n",
       "    }\n",
       "\n",
       "    .dataframe thead th {\n",
       "        text-align: right;\n",
       "    }\n",
       "</style>\n",
       "<table border=\"1\" class=\"dataframe\">\n",
       "  <thead>\n",
       "    <tr style=\"text-align: right;\">\n",
       "      <th></th>\n",
       "      <th>Date</th>\n",
       "      <th>Location</th>\n",
       "      <th>Country</th>\n",
       "      <th>Temperature</th>\n",
       "      <th>CO2 Emissions</th>\n",
       "      <th>Sea Level Rise</th>\n",
       "      <th>Precipitation</th>\n",
       "      <th>Humidity</th>\n",
       "      <th>Wind Speed</th>\n",
       "    </tr>\n",
       "  </thead>\n",
       "  <tbody>\n",
       "    <tr>\n",
       "      <th>0</th>\n",
       "      <td>2000-01-01 00:00:00.000000000</td>\n",
       "      <td>New Williamtown</td>\n",
       "      <td>Latvia</td>\n",
       "      <td>10.688986</td>\n",
       "      <td>403.118903</td>\n",
       "      <td>0.717506</td>\n",
       "      <td>13.835237</td>\n",
       "      <td>23.631256</td>\n",
       "      <td>18.492026</td>\n",
       "    </tr>\n",
       "    <tr>\n",
       "      <th>1</th>\n",
       "      <td>2000-01-01 20:09:43.258325832</td>\n",
       "      <td>North Rachel</td>\n",
       "      <td>South Africa</td>\n",
       "      <td>13.814430</td>\n",
       "      <td>396.663499</td>\n",
       "      <td>1.205715</td>\n",
       "      <td>40.974084</td>\n",
       "      <td>43.982946</td>\n",
       "      <td>34.249300</td>\n",
       "    </tr>\n",
       "    <tr>\n",
       "      <th>2</th>\n",
       "      <td>2000-01-02 16:19:26.516651665</td>\n",
       "      <td>West Williamland</td>\n",
       "      <td>French Guiana</td>\n",
       "      <td>27.323718</td>\n",
       "      <td>451.553155</td>\n",
       "      <td>-0.160783</td>\n",
       "      <td>42.697931</td>\n",
       "      <td>96.652600</td>\n",
       "      <td>34.124261</td>\n",
       "    </tr>\n",
       "    <tr>\n",
       "      <th>3</th>\n",
       "      <td>2000-01-03 12:29:09.774977497</td>\n",
       "      <td>South David</td>\n",
       "      <td>Vietnam</td>\n",
       "      <td>12.309581</td>\n",
       "      <td>422.404983</td>\n",
       "      <td>-0.475931</td>\n",
       "      <td>5.193341</td>\n",
       "      <td>47.467938</td>\n",
       "      <td>8.554563</td>\n",
       "    </tr>\n",
       "    <tr>\n",
       "      <th>4</th>\n",
       "      <td>2000-01-04 08:38:53.033303330</td>\n",
       "      <td>New Scottburgh</td>\n",
       "      <td>Moldova</td>\n",
       "      <td>13.210885</td>\n",
       "      <td>410.472999</td>\n",
       "      <td>1.135757</td>\n",
       "      <td>78.695280</td>\n",
       "      <td>61.789672</td>\n",
       "      <td>8.001164</td>\n",
       "    </tr>\n",
       "    <tr>\n",
       "      <th>...</th>\n",
       "      <td>...</td>\n",
       "      <td>...</td>\n",
       "      <td>...</td>\n",
       "      <td>...</td>\n",
       "      <td>...</td>\n",
       "      <td>...</td>\n",
       "      <td>...</td>\n",
       "      <td>...</td>\n",
       "      <td>...</td>\n",
       "    </tr>\n",
       "    <tr>\n",
       "      <th>9995</th>\n",
       "      <td>2022-12-27 15:21:06.966696576</td>\n",
       "      <td>South Elaineberg</td>\n",
       "      <td>Bhutan</td>\n",
       "      <td>15.020523</td>\n",
       "      <td>391.379537</td>\n",
       "      <td>-1.452243</td>\n",
       "      <td>93.417109</td>\n",
       "      <td>25.293814</td>\n",
       "      <td>6.531866</td>\n",
       "    </tr>\n",
       "    <tr>\n",
       "      <th>9996</th>\n",
       "      <td>2022-12-28 11:30:50.225022464</td>\n",
       "      <td>Leblancville</td>\n",
       "      <td>Congo</td>\n",
       "      <td>16.772451</td>\n",
       "      <td>346.921190</td>\n",
       "      <td>0.543616</td>\n",
       "      <td>49.882947</td>\n",
       "      <td>96.787402</td>\n",
       "      <td>42.249014</td>\n",
       "    </tr>\n",
       "    <tr>\n",
       "      <th>9997</th>\n",
       "      <td>2022-12-29 07:40:33.483348224</td>\n",
       "      <td>West Stephanie</td>\n",
       "      <td>Argentina</td>\n",
       "      <td>22.370025</td>\n",
       "      <td>466.042136</td>\n",
       "      <td>1.026704</td>\n",
       "      <td>30.659841</td>\n",
       "      <td>15.211825</td>\n",
       "      <td>18.293708</td>\n",
       "    </tr>\n",
       "    <tr>\n",
       "      <th>9998</th>\n",
       "      <td>2022-12-30 03:50:16.741674112</td>\n",
       "      <td>Port Steven</td>\n",
       "      <td>Albania</td>\n",
       "      <td>19.430853</td>\n",
       "      <td>337.899776</td>\n",
       "      <td>-0.895329</td>\n",
       "      <td>18.932275</td>\n",
       "      <td>82.774520</td>\n",
       "      <td>42.424255</td>\n",
       "    </tr>\n",
       "    <tr>\n",
       "      <th>9999</th>\n",
       "      <td>2022-12-31 00:00:00.000000000</td>\n",
       "      <td>West Anthonyburgh</td>\n",
       "      <td>Sao Tome and Principe</td>\n",
       "      <td>12.661928</td>\n",
       "      <td>381.172746</td>\n",
       "      <td>2.260788</td>\n",
       "      <td>78.339658</td>\n",
       "      <td>99.243923</td>\n",
       "      <td>41.856539</td>\n",
       "    </tr>\n",
       "  </tbody>\n",
       "</table>\n",
       "<p>10000 rows × 9 columns</p>\n",
       "</div>"
      ],
      "text/plain": [
       "                               Date           Location                Country  \\\n",
       "0     2000-01-01 00:00:00.000000000    New Williamtown                 Latvia   \n",
       "1     2000-01-01 20:09:43.258325832       North Rachel           South Africa   \n",
       "2     2000-01-02 16:19:26.516651665   West Williamland          French Guiana   \n",
       "3     2000-01-03 12:29:09.774977497        South David                Vietnam   \n",
       "4     2000-01-04 08:38:53.033303330     New Scottburgh                Moldova   \n",
       "...                             ...                ...                    ...   \n",
       "9995  2022-12-27 15:21:06.966696576   South Elaineberg                 Bhutan   \n",
       "9996  2022-12-28 11:30:50.225022464       Leblancville                  Congo   \n",
       "9997  2022-12-29 07:40:33.483348224     West Stephanie              Argentina   \n",
       "9998  2022-12-30 03:50:16.741674112        Port Steven                Albania   \n",
       "9999  2022-12-31 00:00:00.000000000  West Anthonyburgh  Sao Tome and Principe   \n",
       "\n",
       "      Temperature  CO2 Emissions  Sea Level Rise  Precipitation   Humidity  \\\n",
       "0       10.688986     403.118903        0.717506      13.835237  23.631256   \n",
       "1       13.814430     396.663499        1.205715      40.974084  43.982946   \n",
       "2       27.323718     451.553155       -0.160783      42.697931  96.652600   \n",
       "3       12.309581     422.404983       -0.475931       5.193341  47.467938   \n",
       "4       13.210885     410.472999        1.135757      78.695280  61.789672   \n",
       "...           ...            ...             ...            ...        ...   \n",
       "9995    15.020523     391.379537       -1.452243      93.417109  25.293814   \n",
       "9996    16.772451     346.921190        0.543616      49.882947  96.787402   \n",
       "9997    22.370025     466.042136        1.026704      30.659841  15.211825   \n",
       "9998    19.430853     337.899776       -0.895329      18.932275  82.774520   \n",
       "9999    12.661928     381.172746        2.260788      78.339658  99.243923   \n",
       "\n",
       "      Wind Speed  \n",
       "0      18.492026  \n",
       "1      34.249300  \n",
       "2      34.124261  \n",
       "3       8.554563  \n",
       "4       8.001164  \n",
       "...          ...  \n",
       "9995    6.531866  \n",
       "9996   42.249014  \n",
       "9997   18.293708  \n",
       "9998   42.424255  \n",
       "9999   41.856539  \n",
       "\n",
       "[10000 rows x 9 columns]"
      ]
     },
     "execution_count": 59,
     "metadata": {},
     "output_type": "execute_result"
    }
   ],
   "source": [
    "df1"
   ]
  },
  {
   "cell_type": "code",
   "execution_count": 63,
   "id": "0a99315d-3df4-4e41-a46d-19d36cb04611",
   "metadata": {},
   "outputs": [
    {
     "name": "stdout",
     "output_type": "stream",
     "text": [
      "                Temperature  CO2 Emissions  Sea Level Rise  Precipitation  \\\n",
      "Temperature        1.000000      -0.002775        0.011663       0.004916   \n",
      "CO2 Emissions     -0.002775       1.000000       -0.004751      -0.007443   \n",
      "Sea Level Rise     0.011663      -0.004751        1.000000      -0.000249   \n",
      "Precipitation      0.004916      -0.007443       -0.000249       1.000000   \n",
      "Humidity          -0.015737      -0.003661       -0.007610       0.003732   \n",
      "Wind Speed         0.021779      -0.003990        0.011789      -0.018798   \n",
      "\n",
      "                Humidity  Wind Speed  \n",
      "Temperature    -0.015737    0.021779  \n",
      "CO2 Emissions  -0.003661   -0.003990  \n",
      "Sea Level Rise -0.007610    0.011789  \n",
      "Precipitation   0.003732   -0.018798  \n",
      "Humidity        1.000000    0.028591  \n",
      "Wind Speed      0.028591    1.000000  \n"
     ]
    }
   ],
   "source": [
    "\n",
    "numeric_df = df1.select_dtypes(include=['number'])\n",
    "\n",
    "\n",
    "correlation_matrix = numeric_df.corr()\n",
    "print(correlation_matrix)\n"
   ]
  },
  {
   "cell_type": "code",
   "execution_count": 7,
   "id": "adda161f-ca41-4a94-8fb8-f87425cf6d11",
   "metadata": {},
   "outputs": [],
   "source": [
    "df2 = pd.read_csv('world_population_by_year_1950_2023.csv')"
   ]
  },
  {
   "cell_type": "code",
   "execution_count": 67,
   "id": "bf427fa8-4829-47a3-ac7f-0e591202ba98",
   "metadata": {},
   "outputs": [
    {
     "ename": "AttributeError",
     "evalue": "'DataFrame' object has no attribute 'select_dtype'",
     "output_type": "error",
     "traceback": [
      "\u001b[1;31m---------------------------------------------------------------------------\u001b[0m",
      "\u001b[1;31mAttributeError\u001b[0m                            Traceback (most recent call last)",
      "\u001b[1;32m~\\AppData\\Local\\Temp\\ipykernel_10820\\3202425697.py\u001b[0m in \u001b[0;36m?\u001b[1;34m()\u001b[0m\n\u001b[1;32m----> 1\u001b[1;33m \u001b[0mnumeric_df2\u001b[0m\u001b[1;33m=\u001b[0m \u001b[0mdf2\u001b[0m\u001b[1;33m.\u001b[0m\u001b[0mselect_dtype\u001b[0m\u001b[1;33m(\u001b[0m\u001b[0minclude\u001b[0m\u001b[1;33m=\u001b[0m\u001b[1;33m[\u001b[0m\u001b[1;34m'number'\u001b[0m\u001b[1;33m]\u001b[0m\u001b[1;33m)\u001b[0m\u001b[1;33m\u001b[0m\u001b[1;33m\u001b[0m\u001b[0m\n\u001b[0m\u001b[0;32m      2\u001b[0m \u001b[0mnumeric_df2\u001b[0m\u001b[1;33m.\u001b[0m\u001b[0mcorr\u001b[0m\u001b[1;33m(\u001b[0m\u001b[1;33m)\u001b[0m\u001b[1;33m\u001b[0m\u001b[1;33m\u001b[0m\u001b[0m\n",
      "\u001b[1;32m~\\anaconda3\\Lib\\site-packages\\pandas\\core\\generic.py\u001b[0m in \u001b[0;36m?\u001b[1;34m(self, name)\u001b[0m\n\u001b[0;32m   6295\u001b[0m             \u001b[1;32mand\u001b[0m \u001b[0mname\u001b[0m \u001b[1;32mnot\u001b[0m \u001b[1;32min\u001b[0m \u001b[0mself\u001b[0m\u001b[1;33m.\u001b[0m\u001b[0m_accessors\u001b[0m\u001b[1;33m\u001b[0m\u001b[1;33m\u001b[0m\u001b[0m\n\u001b[0;32m   6296\u001b[0m             \u001b[1;32mand\u001b[0m \u001b[0mself\u001b[0m\u001b[1;33m.\u001b[0m\u001b[0m_info_axis\u001b[0m\u001b[1;33m.\u001b[0m\u001b[0m_can_hold_identifiers_and_holds_name\u001b[0m\u001b[1;33m(\u001b[0m\u001b[0mname\u001b[0m\u001b[1;33m)\u001b[0m\u001b[1;33m\u001b[0m\u001b[1;33m\u001b[0m\u001b[0m\n\u001b[0;32m   6297\u001b[0m         \u001b[1;33m)\u001b[0m\u001b[1;33m:\u001b[0m\u001b[1;33m\u001b[0m\u001b[1;33m\u001b[0m\u001b[0m\n\u001b[0;32m   6298\u001b[0m             \u001b[1;32mreturn\u001b[0m \u001b[0mself\u001b[0m\u001b[1;33m[\u001b[0m\u001b[0mname\u001b[0m\u001b[1;33m]\u001b[0m\u001b[1;33m\u001b[0m\u001b[1;33m\u001b[0m\u001b[0m\n\u001b[1;32m-> 6299\u001b[1;33m         \u001b[1;32mreturn\u001b[0m \u001b[0mobject\u001b[0m\u001b[1;33m.\u001b[0m\u001b[0m__getattribute__\u001b[0m\u001b[1;33m(\u001b[0m\u001b[0mself\u001b[0m\u001b[1;33m,\u001b[0m \u001b[0mname\u001b[0m\u001b[1;33m)\u001b[0m\u001b[1;33m\u001b[0m\u001b[1;33m\u001b[0m\u001b[0m\n\u001b[0m",
      "\u001b[1;31mAttributeError\u001b[0m: 'DataFrame' object has no attribute 'select_dtype'"
     ]
    }
   ],
   "source": [
    "numeric_df2= df2.select_dtype(include=['number'])\n",
    "numeric_df2.corr()"
   ]
  },
  {
   "cell_type": "markdown",
   "id": "de6f5c29-5074-4e4c-b6c7-84b2da7d0f0b",
   "metadata": {},
   "source": [
    "## Labeling \n"
   ]
  },
  {
   "cell_type": "markdown",
   "id": "4e85c00d-459c-4e9f-abca-2c1ea6632c90",
   "metadata": {},
   "source": [
    "### Numerical columns:Temperature, Sea level , Co2 emission,Precipitation , humidity , Wind Speed\n",
    "### Categorical columns:: Location , Country\n",
    "### Mixed:: None"
   ]
  },
  {
   "cell_type": "markdown",
   "id": "e74482cf-1262-4373-b298-1218da8b5099",
   "metadata": {},
   "source": [
    " ## 1. Temperature\n",
    "\n",
    "\n",
    " "
   ]
  },
  {
   "cell_type": "code",
   "execution_count": 69,
   "id": "e6aa7aea-8c43-41b2-bcf1-1548adfd44ec",
   "metadata": {},
   "outputs": [
    {
     "name": "stdout",
     "output_type": "stream",
     "text": [
      "<class 'pandas.core.series.Series'>\n",
      "RangeIndex: 10000 entries, 0 to 9999\n",
      "Series name: Temperature\n",
      "Non-Null Count  Dtype  \n",
      "--------------  -----  \n",
      "10000 non-null  float64\n",
      "dtypes: float64(1)\n",
      "memory usage: 78.3 KB\n"
     ]
    }
   ],
   "source": [
    "df1['Temperature'].info()"
   ]
  },
  {
   "cell_type": "code",
   "execution_count": 77,
   "id": "aa3e64d1-c3f5-4952-878b-d3e47d4c47aa",
   "metadata": {},
   "outputs": [
    {
     "data": {
      "text/plain": [
       "count    10000.000000\n",
       "mean        14.936034\n",
       "std          5.030616\n",
       "min         -3.803589\n",
       "25%         11.577991\n",
       "50%         14.981136\n",
       "75%         18.305826\n",
       "max         33.976956\n",
       "Name: Temperature, dtype: float64"
      ]
     },
     "execution_count": 77,
     "metadata": {},
     "output_type": "execute_result"
    }
   ],
   "source": [
    "df1['Temperature'].describe()"
   ]
  },
  {
   "cell_type": "code",
   "execution_count": 83,
   "id": "612b20b8-426c-45cd-911d-9c8446b2fde7",
   "metadata": {},
   "outputs": [
    {
     "data": {
      "text/plain": [
       "0    10.688986\n",
       "1    13.814430\n",
       "2    27.323718\n",
       "3    12.309581\n",
       "4    13.210885\n",
       "5     6.229326\n",
       "6    21.646738\n",
       "7    19.730800\n",
       "8    19.858114\n",
       "9    14.121563\n",
       "Name: Temperature, dtype: float64"
      ]
     },
     "execution_count": 83,
     "metadata": {},
     "output_type": "execute_result"
    }
   ],
   "source": [
    "df1['Temperature'].head(10)"
   ]
  },
  {
   "cell_type": "code",
   "execution_count": 79,
   "id": "79380914-1fb6-468e-b77c-f7582ed1d293",
   "metadata": {},
   "outputs": [
    {
     "data": {
      "text/plain": [
       "0"
      ]
     },
     "execution_count": 79,
     "metadata": {},
     "output_type": "execute_result"
    }
   ],
   "source": [
    "df1['Temperature'].isnull().sum()"
   ]
  },
  {
   "cell_type": "code",
   "execution_count": 27,
   "id": "ab68b20d-4bf2-4218-87e7-1c048aed15c8",
   "metadata": {},
   "outputs": [
    {
     "data": {
      "image/png": "[encoded data removed]",
      "text/plain": [
       "<Figure size 640x480 with 1 Axes>"
      ]
     },
     "metadata": {},
     "output_type": "display_data"
    }
   ],
   "source": [
    "result['Temperature'].plot(kind='hist' , color='orange',edgecolor='black')\n",
    "plt.title('Temperature Distribution')\n",
    "plt.xlabel('Temperature(°C)')\n",
    "plt.ylabel('Temperature Frequency')\n",
    "plt.grid(True)\n",
    "plt.tight_layout()\n",
    "plt.show()"
   ]
  },
  {
   "cell_type": "code",
   "execution_count": 28,
   "id": "382003b3-141d-4bb2-9142-fb13c058bb23",
   "metadata": {},
   "outputs": [
    {
     "data": {
      "text/plain": [
       "Text(0.5, 1.0, 'BoxPlot of Temperature distribution')"
      ]
     },
     "execution_count": 28,
     "metadata": {},
     "output_type": "execute_result"
    },
    {
     "data": {
      "image/png": "[encoded data removed]",
      "text/plain": [
       "<Figure size 640x480 with 1 Axes>"
      ]
     },
     "metadata": {},
     "output_type": "display_data"
    }
   ],
   "source": [
    "result['Temperature'].plot(kind='box',color='Red')\n",
    "plt.ylabel('Temperature °C')\n",
    "plt.title('BoxPlot of Temperature distribution')"
   ]
  },
  {
   "cell_type": "code",
   "execution_count": 97,
   "id": "e0ad5e5b-ddd3-4414-9176-8370ff334a27",
   "metadata": {},
   "outputs": [
    {
     "data": {
      "text/html": [
       "<div>\n",
       "<style scoped>\n",
       "    .dataframe tbody tr th:only-of-type {\n",
       "        vertical-align: middle;\n",
       "    }\n",
       "\n",
       "    .dataframe tbody tr th {\n",
       "        vertical-align: top;\n",
       "    }\n",
       "\n",
       "    .dataframe thead th {\n",
       "        text-align: right;\n",
       "    }\n",
       "</style>\n",
       "<table border=\"1\" class=\"dataframe\">\n",
       "  <thead>\n",
       "    <tr style=\"text-align: right;\">\n",
       "      <th></th>\n",
       "      <th>Date</th>\n",
       "      <th>Location</th>\n",
       "      <th>Country</th>\n",
       "      <th>Temperature</th>\n",
       "      <th>CO2 Emissions</th>\n",
       "      <th>Sea Level Rise</th>\n",
       "      <th>Precipitation</th>\n",
       "      <th>Humidity</th>\n",
       "      <th>Wind Speed</th>\n",
       "    </tr>\n",
       "  </thead>\n",
       "  <tbody>\n",
       "    <tr>\n",
       "      <th>2</th>\n",
       "      <td>2000-01-02 16:19:26.516651665</td>\n",
       "      <td>West Williamland</td>\n",
       "      <td>French Guiana</td>\n",
       "      <td>27.323718</td>\n",
       "      <td>451.553155</td>\n",
       "      <td>-0.160783</td>\n",
       "      <td>42.697931</td>\n",
       "      <td>96.652600</td>\n",
       "      <td>34.124261</td>\n",
       "    </tr>\n",
       "    <tr>\n",
       "      <th>84</th>\n",
       "      <td>2000-03-11 13:36:33.699369937</td>\n",
       "      <td>Gordonport</td>\n",
       "      <td>Ecuador</td>\n",
       "      <td>29.090744</td>\n",
       "      <td>404.828451</td>\n",
       "      <td>-1.959734</td>\n",
       "      <td>15.245286</td>\n",
       "      <td>20.355855</td>\n",
       "      <td>39.556756</td>\n",
       "    </tr>\n",
       "    <tr>\n",
       "      <th>160</th>\n",
       "      <td>2000-05-14 09:55:21.332133212</td>\n",
       "      <td>New Kathleen</td>\n",
       "      <td>Sao Tome and Principe</td>\n",
       "      <td>28.944172</td>\n",
       "      <td>421.831009</td>\n",
       "      <td>-0.236732</td>\n",
       "      <td>84.904945</td>\n",
       "      <td>65.889211</td>\n",
       "      <td>16.269138</td>\n",
       "    </tr>\n",
       "    <tr>\n",
       "      <th>389</th>\n",
       "      <td>2000-11-22 19:01:27.488748872</td>\n",
       "      <td>Gutierreztown</td>\n",
       "      <td>Equatorial Guinea</td>\n",
       "      <td>27.181356</td>\n",
       "      <td>441.212224</td>\n",
       "      <td>0.830412</td>\n",
       "      <td>71.571667</td>\n",
       "      <td>97.349092</td>\n",
       "      <td>7.025700</td>\n",
       "    </tr>\n",
       "    <tr>\n",
       "      <th>478</th>\n",
       "      <td>2001-02-05 13:26:37.479747972</td>\n",
       "      <td>New Sonyabury</td>\n",
       "      <td>Peru</td>\n",
       "      <td>27.634861</td>\n",
       "      <td>422.241109</td>\n",
       "      <td>-0.958238</td>\n",
       "      <td>5.724069</td>\n",
       "      <td>38.184942</td>\n",
       "      <td>38.802682</td>\n",
       "    </tr>\n",
       "    <tr>\n",
       "      <th>...</th>\n",
       "      <td>...</td>\n",
       "      <td>...</td>\n",
       "      <td>...</td>\n",
       "      <td>...</td>\n",
       "      <td>...</td>\n",
       "      <td>...</td>\n",
       "      <td>...</td>\n",
       "      <td>...</td>\n",
       "      <td>...</td>\n",
       "    </tr>\n",
       "    <tr>\n",
       "      <th>9234</th>\n",
       "      <td>2021-03-28 08:03:27.380738048</td>\n",
       "      <td>Bakertown</td>\n",
       "      <td>Nigeria</td>\n",
       "      <td>27.172742</td>\n",
       "      <td>498.852734</td>\n",
       "      <td>-0.068964</td>\n",
       "      <td>94.711727</td>\n",
       "      <td>50.730493</td>\n",
       "      <td>33.972197</td>\n",
       "    </tr>\n",
       "    <tr>\n",
       "      <th>9322</th>\n",
       "      <td>2021-06-10 06:18:54.113411328</td>\n",
       "      <td>West Nicholas</td>\n",
       "      <td>Lithuania</td>\n",
       "      <td>28.361630</td>\n",
       "      <td>258.751704</td>\n",
       "      <td>-0.413724</td>\n",
       "      <td>80.709623</td>\n",
       "      <td>97.157644</td>\n",
       "      <td>10.321949</td>\n",
       "    </tr>\n",
       "    <tr>\n",
       "      <th>9531</th>\n",
       "      <td>2021-12-02 20:10:35.103510272</td>\n",
       "      <td>East Robert</td>\n",
       "      <td>Australia</td>\n",
       "      <td>29.235171</td>\n",
       "      <td>346.182591</td>\n",
       "      <td>0.024765</td>\n",
       "      <td>84.628386</td>\n",
       "      <td>4.742959</td>\n",
       "      <td>34.362251</td>\n",
       "    </tr>\n",
       "    <tr>\n",
       "      <th>9552</th>\n",
       "      <td>2021-12-20 11:34:43.528352768</td>\n",
       "      <td>Port Yvette</td>\n",
       "      <td>Saint Barthelemy</td>\n",
       "      <td>29.747069</td>\n",
       "      <td>405.427817</td>\n",
       "      <td>1.965746</td>\n",
       "      <td>15.926186</td>\n",
       "      <td>59.760575</td>\n",
       "      <td>41.209966</td>\n",
       "    </tr>\n",
       "    <tr>\n",
       "      <th>9557</th>\n",
       "      <td>2021-12-24 16:23:19.819981952</td>\n",
       "      <td>Lewisview</td>\n",
       "      <td>Belgium</td>\n",
       "      <td>27.116314</td>\n",
       "      <td>523.481936</td>\n",
       "      <td>-0.532343</td>\n",
       "      <td>10.615119</td>\n",
       "      <td>79.914756</td>\n",
       "      <td>7.837818</td>\n",
       "    </tr>\n",
       "  </tbody>\n",
       "</table>\n",
       "<p>80 rows × 9 columns</p>\n",
       "</div>"
      ],
      "text/plain": [
       "                               Date          Location                Country  \\\n",
       "2     2000-01-02 16:19:26.516651665  West Williamland          French Guiana   \n",
       "84    2000-03-11 13:36:33.699369937        Gordonport                Ecuador   \n",
       "160   2000-05-14 09:55:21.332133212      New Kathleen  Sao Tome and Principe   \n",
       "389   2000-11-22 19:01:27.488748872     Gutierreztown      Equatorial Guinea   \n",
       "478   2001-02-05 13:26:37.479747972     New Sonyabury                   Peru   \n",
       "...                             ...               ...                    ...   \n",
       "9234  2021-03-28 08:03:27.380738048         Bakertown                Nigeria   \n",
       "9322  2021-06-10 06:18:54.113411328     West Nicholas              Lithuania   \n",
       "9531  2021-12-02 20:10:35.103510272       East Robert              Australia   \n",
       "9552  2021-12-20 11:34:43.528352768       Port Yvette       Saint Barthelemy   \n",
       "9557  2021-12-24 16:23:19.819981952         Lewisview                Belgium   \n",
       "\n",
       "      Temperature  CO2 Emissions  Sea Level Rise  Precipitation   Humidity  \\\n",
       "2       27.323718     451.553155       -0.160783      42.697931  96.652600   \n",
       "84      29.090744     404.828451       -1.959734      15.245286  20.355855   \n",
       "160     28.944172     421.831009       -0.236732      84.904945  65.889211   \n",
       "389     27.181356     441.212224        0.830412      71.571667  97.349092   \n",
       "478     27.634861     422.241109       -0.958238       5.724069  38.184942   \n",
       "...           ...            ...             ...            ...        ...   \n",
       "9234    27.172742     498.852734       -0.068964      94.711727  50.730493   \n",
       "9322    28.361630     258.751704       -0.413724      80.709623  97.157644   \n",
       "9531    29.235171     346.182591        0.024765      84.628386   4.742959   \n",
       "9552    29.747069     405.427817        1.965746      15.926186  59.760575   \n",
       "9557    27.116314     523.481936       -0.532343      10.615119  79.914756   \n",
       "\n",
       "      Wind Speed  \n",
       "2      34.124261  \n",
       "84     39.556756  \n",
       "160    16.269138  \n",
       "389     7.025700  \n",
       "478    38.802682  \n",
       "...          ...  \n",
       "9234   33.972197  \n",
       "9322   10.321949  \n",
       "9531   34.362251  \n",
       "9552   41.209966  \n",
       "9557    7.837818  \n",
       "\n",
       "[80 rows x 9 columns]"
      ]
     },
     "execution_count": 97,
     "metadata": {},
     "output_type": "execute_result"
    }
   ],
   "source": [
    "df1[df1['Temperature']>27 ]"
   ]
  },
  {
   "cell_type": "code",
   "execution_count": 85,
   "id": "8ceb7571-dd61-48a5-99f9-3b02c4f16cf8",
   "metadata": {},
   "outputs": [
    {
     "data": {
      "text/plain": [
       "-0.018648891887336767"
      ]
     },
     "execution_count": 85,
     "metadata": {},
     "output_type": "execute_result"
    }
   ],
   "source": [
    "df1['Temperature'].skew()"
   ]
  },
  {
   "cell_type": "code",
   "execution_count": 87,
   "id": "071c7506-6b99-492c-b5eb-e5bd890795b2",
   "metadata": {},
   "outputs": [
    {
     "data": {
      "text/plain": [
       "<Axes: ylabel='Density'>"
      ]
     },
     "execution_count": 87,
     "metadata": {},
     "output_type": "execute_result"
    },
    {
     "data": {
      "image/png": "[encoded data removed]",
      "text/plain": [
       "<Figure size 640x480 with 1 Axes>"
      ]
     },
     "metadata": {},
     "output_type": "display_data"
    }
   ],
   "source": [
    "df1['Temperature'].plot(kind='kde',color='cyan')"
   ]
  },
  {
   "cell_type": "markdown",
   "id": "2f24b92d-e211-4748-8dd6-278b9a33406b",
   "metadata": {},
   "source": [
    "## 2.Co2 Emission"
   ]
  },
  {
   "cell_type": "code",
   "execution_count": 100,
   "id": "2e2da7ca-7762-4079-b3a4-e6df5aaf87a7",
   "metadata": {},
   "outputs": [
    {
     "data": {
      "text/plain": [
       "count    10000.000000\n",
       "mean       400.220469\n",
       "std         49.696933\n",
       "min        182.131220\n",
       "25%        367.109330\n",
       "50%        400.821324\n",
       "75%        433.307905\n",
       "max        582.899701\n",
       "Name: CO2 Emissions, dtype: float64"
      ]
     },
     "execution_count": 100,
     "metadata": {},
     "output_type": "execute_result"
    }
   ],
   "source": [
    "df1['CO2 Emissions'].describe()"
   ]
  },
  {
   "cell_type": "code",
   "execution_count": 104,
   "id": "9d949399-41fb-47e4-84af-f6204e32ec67",
   "metadata": {},
   "outputs": [
    {
     "name": "stdout",
     "output_type": "stream",
     "text": [
      "<class 'pandas.core.series.Series'>\n",
      "RangeIndex: 10000 entries, 0 to 9999\n",
      "Series name: CO2 Emissions\n",
      "Non-Null Count  Dtype  \n",
      "--------------  -----  \n",
      "10000 non-null  float64\n",
      "dtypes: float64(1)\n",
      "memory usage: 78.3 KB\n"
     ]
    }
   ],
   "source": [
    "df1['CO2 Emissions'].info()"
   ]
  },
  {
   "cell_type": "code",
   "execution_count": 106,
   "id": "9284e13e-17e6-4439-967c-2fff504592d0",
   "metadata": {},
   "outputs": [
    {
     "data": {
      "text/plain": [
       "0"
      ]
     },
     "execution_count": 106,
     "metadata": {},
     "output_type": "execute_result"
    }
   ],
   "source": [
    "df1['CO2 Emissions'].isnull().sum()"
   ]
  },
  {
   "cell_type": "code",
   "execution_count": 110,
   "id": "f3eccb39-1336-4fc9-8ea0-81e43a9bdb17",
   "metadata": {},
   "outputs": [
    {
     "data": {
      "text/plain": [
       "9990    446.058349\n",
       "9991    314.464280\n",
       "9992    475.066115\n",
       "9993    423.686881\n",
       "9994    414.475259\n",
       "9995    391.379537\n",
       "9996    346.921190\n",
       "9997    466.042136\n",
       "9998    337.899776\n",
       "9999    381.172746\n",
       "Name: CO2 Emissions, dtype: float64"
      ]
     },
     "execution_count": 110,
     "metadata": {},
     "output_type": "execute_result"
    }
   ],
   "source": [
    "df1['CO2 Emissions'].tail(10)"
   ]
  },
  {
   "cell_type": "code",
   "execution_count": 118,
   "id": "3b8b08ac-37a0-4cbd-80ca-700237703f9b",
   "metadata": {},
   "outputs": [
    {
     "data": {
      "image/png": "[encoded data removed]",
      "text/plain": [
       "<Figure size 640x480 with 1 Axes>"
      ]
     },
     "metadata": {},
     "output_type": "display_data"
    }
   ],
   "source": [
    "df1['CO2 Emissions'].plot(kind='hist', color='grey',edgecolor='black')\n",
    "plt.xlabel('CO2 Emission(in tonne)')\n",
    "plt.ylabel('Emission Frequency')\n",
    "plt.title('Co2 emission Distribution')\n",
    "plt.grid(True)\n",
    "plt.tight_layout()\n",
    "plt.show()"
   ]
  },
  {
   "cell_type": "code",
   "execution_count": null,
   "id": "2f4c992f-1d8b-4bd2-adf6-ea44c71ac60b",
   "metadata": {},
   "outputs": [],
   "source": []
  }
 ],
 "metadata": {
  "kernelspec": {
   "display_name": "Python 3 (ipykernel)",
   "language": "python",
   "name": "python3"
  },
  "language_info": {
   "codemirror_mode": {
    "name": "ipython",
    "version": 3
   },
   "file_extension": ".py",
   "mimetype": "text/x-python",
   "name": "python",
   "nbconvert_exporter": "python",
   "pygments_lexer": "ipython3",
   "version": "3.12.4"
  }
 },
 "nbformat": 4,
 "nbformat_minor": 5
}
